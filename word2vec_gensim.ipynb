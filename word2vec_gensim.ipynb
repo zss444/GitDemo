{
 "cells": [
  {
   "cell_type": "code",
   "execution_count": 1,
   "id": "59867d0d",
   "metadata": {},
   "outputs": [],
   "source": [
    "import pandas as pd\n",
    "import jieba\n",
    "from gensim.models.word2vec import Word2Vec"
   ]
  },
  {
   "cell_type": "code",
   "execution_count": 3,
   "id": "38fc1a34",
   "metadata": {},
   "outputs": [
    {
     "name": "stdout",
     "output_type": "stream",
     "text": [
      "Skip-Gram model trained successfully.\n"
     ]
    }
   ],
   "source": [
    "# Task 1: Skip-Gram model training\n",
    "from gensim.models.word2vec import Word2Vec\n",
    "import pandas as pd\n",
    "import jieba\n",
    "\n",
    "# Read and preprocess data\n",
    "data = pd.read_csv('train.csv')\n",
    "corpus = data['comment'].values.astype(str)\n",
    "corpus = [jieba.lcut(corpus[index]\n",
    "                    .replace(\"，\", \"\")\n",
    "                    .replace(\"!\", \"\")\n",
    "                    .replace(\"！\", \"\")\n",
    "                    .replace(\"。\", \"\")\n",
    "                    .replace(\"~\", \"\")\n",
    "                    .replace(\"；\", \"\")\n",
    "                    .replace(\"？\", \"\")\n",
    "                    .replace(\"?\", \"\")\n",
    "                    .replace(\"【\", \"\")\n",
    "                    .replace(\"】\", \"\")\n",
    "                    .replace(\"#\", \"\")\n",
    "                    ) for index in range(len(corpus))]\n",
    "\n",
    "# Train with Skip-Gram (sg=1)\n",
    "model = Word2Vec(corpus, sg=1, vector_size=300, window=5, min_count=3, workers=4)\n",
    "print(\"Skip-Gram model trained successfully.\")"
   ]
  },
  {
   "cell_type": "code",
   "execution_count": 8,
   "id": "515099af",
   "metadata": {},
   "outputs": [
    {
     "name": "stdout",
     "output_type": "stream",
     "text": [
      "Vector for '环境':\n",
      "[ 2.03460976e-01  1.98762745e-01  3.02130841e-02  2.18902662e-01\n",
      " -1.99982226e-02 -2.54145980e-01 -1.07329965e-01  3.57708365e-01\n",
      " -2.60431796e-01 -1.08674146e-01  1.15351584e-02 -1.47797570e-01\n",
      " -1.29657239e-01  1.07076220e-01 -1.68399662e-01  2.15158060e-01\n",
      "  3.74541879e-01  1.05178639e-01  1.95806012e-01 -4.54039067e-01\n",
      " -4.13288847e-02 -1.09711207e-01 -1.56516045e-01 -8.77227411e-02\n",
      " -2.59772569e-01  1.39542744e-02  7.10991025e-03  7.47090653e-02\n",
      "  8.85301363e-03 -1.44617096e-01  2.07802892e-01 -6.44517615e-02\n",
      "  1.23688459e-01  1.64795041e-01 -2.35835582e-01  1.85090434e-02\n",
      "  9.49901044e-02 -7.33466446e-02  7.47174844e-02 -3.54533222e-05\n",
      "  6.05666377e-02  6.08828031e-02  2.88161784e-01  9.71572194e-03\n",
      "  1.38564542e-01  2.21662790e-01  5.88015355e-02 -1.53759673e-01\n",
      "  1.14911199e-01  1.02995858e-01  6.86161742e-02  6.84329728e-03\n",
      " -1.03685632e-01  1.48357198e-01  1.12779833e-01  1.11306489e-01\n",
      " -1.18151478e-01 -1.62871122e-01  1.92344517e-01 -6.08966723e-02\n",
      " -2.08957680e-02  2.79566441e-02 -3.28922570e-02  2.40661539e-02\n",
      " -1.06025122e-01  1.38457954e-01  7.10495859e-02  5.02428822e-02\n",
      " -1.98347941e-01  5.88135794e-02 -8.51031318e-02 -3.00715417e-01\n",
      " -1.14231549e-01 -1.15303650e-01  2.62786895e-01  2.04840124e-01\n",
      " -5.70035093e-02  6.85765818e-02 -2.13311329e-01 -3.69799808e-02\n",
      " -6.30255044e-02 -3.00674923e-02 -1.68659747e-01  4.75813836e-01\n",
      "  2.65688300e-01 -4.39772643e-02  8.77506807e-02  2.39857435e-02\n",
      "  2.66500205e-01 -1.12699866e-01  2.26908177e-01 -2.10241169e-01\n",
      " -8.71314481e-02  8.02003071e-02  1.47054598e-01  1.86256200e-01\n",
      "  1.00226678e-01  8.68480876e-02 -8.89184605e-03  2.07957938e-01\n",
      "  1.20277420e-01  2.84299478e-02  3.03297378e-02  2.33950078e-01\n",
      " -8.76541957e-02 -4.40707803e-01  1.67799473e-01  7.30431452e-02\n",
      " -2.40799502e-01 -1.53141201e-01 -1.84906527e-01 -1.97260946e-01\n",
      "  2.65455898e-02 -1.34335551e-03  8.22589770e-02  2.31152624e-01\n",
      "  3.32558341e-02  8.80135372e-02 -1.13528513e-03 -2.21286535e-01\n",
      " -2.21495107e-01  4.36654463e-02  6.52488768e-02 -1.64714366e-01\n",
      " -1.06160313e-01  4.11777139e-01 -7.67998099e-02 -1.41658559e-01\n",
      " -5.02890721e-02  2.46281326e-01 -4.80548441e-02  1.11206092e-01\n",
      "  1.16504589e-02 -2.23933518e-01  5.62142953e-02  2.91664928e-01\n",
      " -1.78979058e-02  1.25787869e-01 -2.09022269e-01 -2.05060586e-01\n",
      " -1.77405894e-01 -1.86889395e-02 -1.06944643e-01  1.32689431e-01\n",
      " -5.12050316e-02 -1.28343150e-01 -2.50528157e-01 -1.54425427e-01\n",
      "  1.62312463e-01 -1.43583445e-02 -1.04783207e-01 -4.46574271e-01\n",
      "  1.11223243e-01 -2.54472524e-01 -2.02520397e-02  8.47926587e-02\n",
      " -1.91214770e-01  2.70978827e-03 -4.83974554e-02  3.11564386e-01\n",
      "  1.95040584e-01 -8.37040544e-02 -5.70518263e-02  9.74516794e-02\n",
      "  1.11972596e-02  1.60312504e-01 -2.56308764e-01  2.13741243e-01\n",
      " -1.22812979e-01  5.29150292e-02 -7.53025785e-02 -6.34322837e-02\n",
      "  2.28626698e-01 -7.57998750e-02  5.04378080e-02  8.83753896e-02\n",
      " -4.98108678e-02  2.91631594e-02  6.17984757e-02  1.31369978e-01\n",
      " -9.15108100e-02  2.47787744e-01  9.05006677e-02 -1.92784406e-02\n",
      " -1.12687290e-01  2.40952268e-01  2.98515260e-01  3.44531268e-01\n",
      "  1.39869213e-01 -8.60631615e-02  1.50310546e-01  1.61052540e-01\n",
      " -1.84341729e-01  2.23538190e-01  8.16442072e-02 -1.77799746e-01\n",
      "  2.41417676e-01 -1.86932027e-01 -2.03164779e-02  3.37889604e-02\n",
      " -1.27087444e-01 -1.77579820e-01  6.66107684e-02  8.33911523e-02\n",
      " -5.16066374e-03 -1.51787594e-01  1.37991786e-01  1.93219766e-01\n",
      "  1.02925301e-02  7.92760178e-02  8.42251033e-02 -2.08769158e-01\n",
      " -1.00171201e-01 -4.20170836e-03 -6.83740154e-02 -1.70462117e-01\n",
      " -2.18170375e-01 -3.03051591e-01 -1.45381823e-01 -3.36125523e-01\n",
      "  8.82553831e-02  1.14425912e-01  1.20887332e-01 -1.95534732e-02\n",
      " -2.13841602e-01 -7.60903209e-02  2.04752088e-02  1.29028678e-01\n",
      " -1.97410911e-01 -9.36781708e-03  1.41694611e-02 -2.42992848e-01\n",
      " -1.30030170e-01  3.44770461e-01 -2.62705147e-01  9.02916640e-02\n",
      "  8.67603794e-02  9.88343731e-02 -1.49996340e-01 -1.99111834e-01\n",
      "  4.00877856e-02 -1.03994638e-01 -1.11786090e-01  2.60160744e-01\n",
      " -1.16075180e-01 -1.26830176e-01  2.85516717e-02 -1.34913787e-01\n",
      " -1.85261853e-02  1.65881589e-01  5.52602969e-02 -2.83747129e-02\n",
      "  2.03298196e-01 -7.34388595e-03 -4.49813813e-01 -1.94121748e-01\n",
      "  2.14059472e-01  9.41687897e-02 -4.92642492e-01 -2.54179448e-01\n",
      "  1.15580529e-01 -3.78540382e-02  2.57935822e-01 -2.48094529e-01\n",
      " -2.77067721e-01  1.32821677e-02  2.83931494e-01  2.04902232e-01\n",
      " -3.30564439e-01  8.68235379e-02 -9.64830220e-02  1.06229775e-01\n",
      "  1.45308569e-01 -1.27472207e-01  2.05044925e-01  2.72431463e-01\n",
      " -1.59642234e-01  6.62461072e-02 -1.90207481e-01 -1.66143794e-02\n",
      " -1.56717271e-01  7.88897127e-02 -1.77534938e-01 -4.94248308e-02\n",
      "  1.03737426e-03  1.33285269e-01 -1.48064271e-01  5.83025739e-02\n",
      " -1.41228989e-01  1.66206017e-01  3.39928418e-01  1.17364354e-01\n",
      "  2.34731466e-01  2.95764863e-01  2.37621948e-01  1.05446592e-01\n",
      " -2.25555822e-02  6.18452542e-02 -5.02538458e-02 -1.47654176e-01]\n",
      "Shape: (300,)\n"
     ]
    }
   ],
   "source": [
    "# Task 2: Vector for \"环境\"\n",
    "word = \"环境\"\n",
    "if word in model.wv.key_to_index:\n",
    "    vector = model.wv[word]\n",
    "    print(f\"Vector for '{word}':\\n{vector}\")\n",
    "    print(f\"Shape: {vector.shape}\")\n",
    "else:\n",
    "    print(f\"'{word}' not in vocabulary\")"
   ]
  },
  {
   "cell_type": "code",
   "execution_count": 5,
   "id": "087d085a-198a-4eee-a49d-aac2e7302add",
   "metadata": {},
   "outputs": [
    {
     "name": "stdout",
     "output_type": "stream",
     "text": [
      "3 most similar words to '好': ['很棒', '到位', '超好']\n",
      "3 most similar words to '坏': ['变质', '变味', '臭']\n"
     ]
    }
   ],
   "source": [
    "# Task 3: Most similar to \"好\" or \"坏\"\n",
    "target_words = [\"好\", \"坏\"]\n",
    "for word in target_words:\n",
    "    if word in model.wv.key_to_index:\n",
    "        similar_words = model.wv.most_similar(word, topn=3)\n",
    "        print(f\"3 most similar words to '{word}': {[w[0] for w in similar_words]}\")\n",
    "    else:\n",
    "        print(f\"'{word}' not in vocabulary\")"
   ]
  },
  {
   "cell_type": "code",
   "execution_count": 6,
   "id": "ba728c6c-bf1a-468a-b381-20b7e913564d",
   "metadata": {},
   "outputs": [
    {
     "name": "stdout",
     "output_type": "stream",
     "text": [
      "Similarity between '好' and '坏': 0.3366\n"
     ]
    }
   ],
   "source": [
    "# Task 4: Similarity between \"好\" and \"坏\"\n",
    "word1, word2 = \"好\", \"坏\"\n",
    "if word1 in model.wv.key_to_index and word2 in model.wv.key_to_index:\n",
    "    similarity = model.wv.similarity(word1, word2)\n",
    "    print(f\"Similarity between '{word1}' and '{word2}': {similarity:.4f}\")\n",
    "else:\n",
    "    print(f\"One or both words not in vocabulary\")"
   ]
  },
  {
   "cell_type": "code",
   "execution_count": 7,
   "id": "26f29d02-b6db-44f9-a4ed-36482e0ebd47",
   "metadata": {},
   "outputs": [
    {
     "name": "stdout",
     "output_type": "stream",
     "text": [
      "Result of 餐厅 + 聚会 - 安静: 家庭聚会\n"
     ]
    }
   ],
   "source": [
    "# Task 5: Vector calculation\n",
    "positive = [\"餐厅\", \"聚会\"]\n",
    "negative = [\"安静\"]\n",
    "result_words = [word for word in positive + negative if word in model.wv.key_to_index]\n",
    "\n",
    "if len(result_words) == len(positive + negative):\n",
    "    results = model.wv.most_similar(positive=positive, negative=negative, topn=1)\n",
    "    print(f\"Result of {' + '.join(positive)} - {' + '.join(negative)}: {results[0][0]}\")\n",
    "else:\n",
    "    missing = set(positive + negative) - set(result_words)\n",
    "    print(f\"Cannot perform calculation - missing words: {missing}\")"
   ]
  },
  {
   "cell_type": "code",
   "execution_count": null,
   "id": "d0bc4f33-02bb-466f-b87c-f5cce1fc27bb",
   "metadata": {},
   "outputs": [],
   "source": []
  }
 ],
 "metadata": {
  "kernelspec": {
   "display_name": "Python 3 (ipykernel)",
   "language": "python",
   "name": "python3"
  },
  "language_info": {
   "codemirror_mode": {
    "name": "ipython",
    "version": 3
   },
   "file_extension": ".py",
   "mimetype": "text/x-python",
   "name": "python",
   "nbconvert_exporter": "python",
   "pygments_lexer": "ipython3",
   "version": "3.8.20"
  }
 },
 "nbformat": 4,
 "nbformat_minor": 5
}
